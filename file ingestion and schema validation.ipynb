{
 "cells": [
  {
   "cell_type": "code",
   "execution_count": 1,
   "id": "a1781025",
   "metadata": {},
   "outputs": [],
   "source": [
    "import os\n",
    "import time\n",
    "import warnings\n",
    "warnings.filterwarnings(\"ignore\")"
   ]
  },
  {
   "cell_type": "code",
   "execution_count": 2,
   "id": "e52cc327",
   "metadata": {},
   "outputs": [
    {
     "data": {
      "text/plain": [
       "2151937808"
      ]
     },
     "execution_count": 2,
     "metadata": {},
     "output_type": "execute_result"
    }
   ],
   "source": [
    "# file size\n",
    "os.path.getsize(\"Parking_Violations_Issued_-_Fiscal_Year_2016.csv\")"
   ]
  },
  {
   "cell_type": "markdown",
   "id": "ecd89780",
   "metadata": {},
   "source": [
    "#### Read with Dask"
   ]
  },
  {
   "cell_type": "code",
   "execution_count": 3,
   "id": "654f8bdb",
   "metadata": {},
   "outputs": [
    {
     "name": "stdout",
     "output_type": "stream",
     "text": [
      "Read time with dask:  0.011098861694335938 seconds\n"
     ]
    }
   ],
   "source": [
    "from dask import dataframe as dd\n",
    "start = time.time()\n",
    "dask_df = dd.read_csv(\"Parking_Violations_Issued_-_Fiscal_Year_2016.csv\")\n",
    "end = time.time()\n",
    "print(\"Read time with dask: \", (end-start), \"seconds\")"
   ]
  },
  {
   "cell_type": "markdown",
   "id": "7088aa2c",
   "metadata": {},
   "source": [
    "#### Read with Pandas"
   ]
  },
  {
   "cell_type": "code",
   "execution_count": 4,
   "id": "5dc787df",
   "metadata": {
    "scrolled": true
   },
   "outputs": [
    {
     "name": "stdout",
     "output_type": "stream",
     "text": [
      "Read time with pandas:  78.7598328590393 seconds\n"
     ]
    }
   ],
   "source": [
    "import pandas as pd\n",
    "start = time.time()\n",
    "df = pd.read_csv(\"Parking_Violations_Issued_-_Fiscal_Year_2016.csv\")\n",
    "end = time.time()\n",
    "print(\"Read time with pandas: \", (end-start), \"seconds\")"
   ]
  },
  {
   "cell_type": "markdown",
   "id": "45b495e0",
   "metadata": {},
   "source": [
    "Dask is better than Pandas with the least reading time of less than a second"
   ]
  },
  {
   "cell_type": "code",
   "execution_count": 5,
   "id": "1c9c4336",
   "metadata": {},
   "outputs": [
    {
     "name": "stdout",
     "output_type": "stream",
     "text": [
      "<class 'pandas.core.frame.DataFrame'>\n",
      "RangeIndex: 10626899 entries, 0 to 10626898\n",
      "Data columns (total 51 columns):\n",
      " #   Column                             Dtype  \n",
      "---  ------                             -----  \n",
      " 0   Summons Number                     int64  \n",
      " 1   Plate ID                           object \n",
      " 2   Registration State                 object \n",
      " 3   Plate Type                         object \n",
      " 4   Issue Date                         object \n",
      " 5   Violation Code                     int64  \n",
      " 6   Vehicle Body Type                  object \n",
      " 7   Vehicle Make                       object \n",
      " 8   Issuing Agency                     object \n",
      " 9   Street Code1                       int64  \n",
      " 10  Street Code2                       int64  \n",
      " 11  Street Code3                       int64  \n",
      " 12  Vehicle Expiration Date            float64\n",
      " 13  Violation Location                 float64\n",
      " 14  Violation Precinct                 float64\n",
      " 15  Issuer Precinct                    float64\n",
      " 16  Issuer Code                        float64\n",
      " 17  Issuer Command                     object \n",
      " 18  Issuer Squad                       object \n",
      " 19  Violation Time                     object \n",
      " 20  Time First Observed                object \n",
      " 21  Violation County                   object \n",
      " 22  Violation In Front Of Or Opposite  object \n",
      " 23  House Number                       object \n",
      " 24  Street Name                        object \n",
      " 25  Intersecting Street                object \n",
      " 26  Date First Observed                float64\n",
      " 27  Law Section                        float64\n",
      " 28  Sub Division                       object \n",
      " 29  Violation Legal Code               object \n",
      " 30  Days Parking In Effect             object \n",
      " 31  From Hours In Effect               object \n",
      " 32  To Hours In Effect                 object \n",
      " 33  Vehicle Color                      object \n",
      " 34  Unregistered Vehicle?              object \n",
      " 35  Vehicle Year                       float64\n",
      " 36  Meter Number                       object \n",
      " 37  Feet From Curb                     float64\n",
      " 38  Violation Post Code                object \n",
      " 39  Violation Description              object \n",
      " 40  No Standing or Stopping Violation  float64\n",
      " 41  Hydrant Violation                  float64\n",
      " 42  Double Parking Violation           float64\n",
      " 43  Latitude                           float64\n",
      " 44  Longitude                          float64\n",
      " 45  Community Board                    float64\n",
      " 46  Community Council                  float64\n",
      " 47  Census Tract                       float64\n",
      " 48  BIN                                float64\n",
      " 49  BBL                                float64\n",
      " 50  NTA                                float64\n",
      "dtypes: float64(20), int64(5), object(26)\n",
      "memory usage: 4.0+ GB\n"
     ]
    }
   ],
   "source": [
    "df.info()"
   ]
  },
  {
   "cell_type": "code",
   "execution_count": 6,
   "id": "2aa91a24",
   "metadata": {
    "scrolled": false
   },
   "outputs": [
    {
     "data": {
      "text/plain": [
       "10626899"
      ]
     },
     "execution_count": 6,
     "metadata": {},
     "output_type": "execute_result"
    }
   ],
   "source": [
    "# number of rows\n",
    "len(df.index)"
   ]
  },
  {
   "cell_type": "code",
   "execution_count": 7,
   "id": "009232d1",
   "metadata": {},
   "outputs": [
    {
     "data": {
      "text/plain": [
       "51"
      ]
     },
     "execution_count": 7,
     "metadata": {},
     "output_type": "execute_result"
    }
   ],
   "source": [
    "# number of columns\n",
    "len(df.columns)"
   ]
  },
  {
   "cell_type": "code",
   "execution_count": 8,
   "id": "4303dc5b",
   "metadata": {},
   "outputs": [],
   "source": [
    "from dask import dataframe as dd\n",
    "df = dd.read_csv(\"Parking_Violations_Issued_-_Fiscal_Year_2016.csv\")"
   ]
  },
  {
   "cell_type": "code",
   "execution_count": 9,
   "id": "a4a61854",
   "metadata": {},
   "outputs": [],
   "source": [
    "# remove special characters from column names\n",
    "df.columns=df.columns.str.replace('[#,@,&,?]','')\n",
    "\n",
    "# remove white space from column names\n",
    "df.columns = df.columns.str.replace(' ', '')"
   ]
  },
  {
   "cell_type": "code",
   "execution_count": 10,
   "id": "e8d664cf",
   "metadata": {},
   "outputs": [
    {
     "data": {
      "text/plain": [
       "Index(['SummonsNumber', 'PlateID', 'RegistrationState', 'PlateType',\n",
       "       'IssueDate', 'ViolationCode', 'VehicleBodyType', 'VehicleMake',\n",
       "       'IssuingAgency', 'StreetCode1', 'StreetCode2', 'StreetCode3',\n",
       "       'VehicleExpirationDate', 'ViolationLocation', 'ViolationPrecinct',\n",
       "       'IssuerPrecinct', 'IssuerCode', 'IssuerCommand', 'IssuerSquad',\n",
       "       'ViolationTime', 'TimeFirstObserved', 'ViolationCounty',\n",
       "       'ViolationInFrontOfOrOpposite', 'HouseNumber', 'StreetName',\n",
       "       'IntersectingStreet', 'DateFirstObserved', 'LawSection', 'SubDivision',\n",
       "       'ViolationLegalCode', 'DaysParkingInEffect', 'FromHoursInEffect',\n",
       "       'ToHoursInEffect', 'VehicleColor', 'UnregisteredVehicle', 'VehicleYear',\n",
       "       'MeterNumber', 'FeetFromCurb', 'ViolationPostCode',\n",
       "       'ViolationDescription', 'NoStandingorStoppingViolation',\n",
       "       'HydrantViolation', 'DoubleParkingViolation', 'Latitude', 'Longitude',\n",
       "       'CommunityBoard', 'CommunityCouncil', 'CensusTract', 'BIN', 'BBL',\n",
       "       'NTA'],\n",
       "      dtype='object')"
      ]
     },
     "execution_count": 10,
     "metadata": {},
     "output_type": "execute_result"
    }
   ],
   "source": [
    "# check column names\n",
    "df.columns"
   ]
  },
  {
   "cell_type": "markdown",
   "id": "1a81c1d7",
   "metadata": {},
   "source": [
    "#### Write utility file"
   ]
  },
  {
   "cell_type": "code",
   "execution_count": 11,
   "id": "cd469d91",
   "metadata": {},
   "outputs": [
    {
     "name": "stdout",
     "output_type": "stream",
     "text": [
      "Overwriting testutility.py\n"
     ]
    }
   ],
   "source": [
    "%%writefile testutility.py\n",
    "import logging\n",
    "import subprocess\n",
    "import yaml\n",
    "import datetime \n",
    "import gc\n",
    "import re\n",
    "\n",
    "\n",
    "\n",
    "def read_config_file(filepath):\n",
    "    with open(filepath, 'r') as stream:\n",
    "        try:\n",
    "            return yaml.safe_load(stream)\n",
    "        except yaml.YAMLError as exc:\n",
    "            logging.error(exc)\n",
    "\n",
    "\n",
    "def replacer(string, char):\n",
    "    pattern = char + '{2,}'\n",
    "    string = re.sub(pattern, char, string) \n",
    "    return string\n",
    "\n",
    "def col_header_val(df, table_config):\n",
    "    '''\n",
    "    replace whitespaces in the column\n",
    "    and standardized column names\n",
    "    '''\n",
    "    df.columns = df.columns.str.lower()\n",
    "    df.columns = df.columns.str.replace('[^\\w]','_',regex=True)\n",
    "    df.columns = list(map(lambda x: x.strip('_'), list(df.columns)))\n",
    "    df.columns = list(map(lambda x: replacer(x,'_'), list(df.columns)))\n",
    "    expected_col = list(map(lambda x: x.lower(),  table_config['columns']))\n",
    "    expected_col.sort()\n",
    "    df.columns =list(map(lambda x: x.lower(), list(df.columns)))\n",
    "    df = df.reindex(sorted(df.columns), axis=1)\n",
    "    if len(df.columns) == len(expected_col) and list(expected_col)  == list(df.columns):\n",
    "        print(\"column name and column length validation passed\")\n",
    "        return 1\n",
    "    else:\n",
    "        print(\"column name and column length validation failed\")\n",
    "        mismatched_columns_file = list(set(df.columns).difference(expected_col))\n",
    "        print(\"Following File columns are not in the YAML file\",mismatched_columns_file)\n",
    "        missing_YAML_file = list(set(expected_col).difference(df.columns))\n",
    "        print(\"Following YAML columns are not in the file uploaded\",missing_YAML_file)\n",
    "        logging.info(f'df columns: {df.columns}')\n",
    "        logging.info(f'expected columns: {expected_col}')\n",
    "        return 0"
   ]
  },
  {
   "cell_type": "markdown",
   "id": "ea0e308e",
   "metadata": {},
   "source": [
    "#### Write YAML file "
   ]
  },
  {
   "cell_type": "code",
   "execution_count": 12,
   "id": "a8ed13dd",
   "metadata": {},
   "outputs": [
    {
     "name": "stdout",
     "output_type": "stream",
     "text": [
      "Overwriting store.yaml\n"
     ]
    }
   ],
   "source": [
    "%%writefile store.yaml\n",
    "file_type: csv\n",
    "dataset_name: file\n",
    "file_name: Parking_Violations_Issued_-_Fiscal_Year_2016\n",
    "table_name: edsurv\n",
    "inbound_delimiter: \",\"\n",
    "outbound_delimiter: \"|\"\n",
    "skip_leading_rows: 1\n",
    "columns: \n",
    "    - SummonsNumber\n",
    "      - PlateID\n",
    "      - RegistrationState\n",
    "      - PlateType\n",
    "      - IssueDate\n",
    "      - ViolationCode\n",
    "      - VehicleBodyType\n",
    "      - VehicleMake\n",
    "      - IssuingAgency\n",
    "      - StreetCode1\n",
    "      - StreetCode2\n",
    "      - StreetCode3\n",
    "      - VehicleExpirationDate\n",
    "      - ViolationLocation\n",
    "      - ViolationPrecinct\n",
    "      - ViolationInFrontOfOrOpposite\n",
    "      - HouseNumber\n",
    "      - StreetName\n",
    "      - IntersectingStreet\n",
    "      - DateFirstObserved\n",
    "      - LawSection\n",
    "      - SubDivision\n",
    "      - ViolationLegalCode\n",
    "      - DaysParkingInEffect\n",
    "      - FromHoursInEffect\n",
    "      - ToHoursInEffect\n",
    "      - VehicleColor\n",
    "      - UnregisteredVehicle\n",
    "      - VehicleYear\n",
    "      - MeterNumber\n",
    "      - FeetFromCurb\n",
    "      - ViolationPostCode\n",
    "      - ViolationDescription\n",
    "      - NoStandingorStoppingViolation\n",
    "      - HydrantViolation\n",
    "      - DoubleParkingViolation\n",
    "      - Latitude\n",
    "      - Longitude\n",
    "      - CommunityBoard\n",
    "      - CommunityCouncil\n",
    "      - CensusTract\n",
    "      - BIN\n",
    "      - BBL\n",
    "      - NTA"
   ]
  },
  {
   "cell_type": "code",
   "execution_count": 13,
   "id": "eed962e3",
   "metadata": {},
   "outputs": [],
   "source": [
    "# read config file\n",
    "import testutility as util\n",
    "config_data = util.read_config_file(\"store.yaml\")"
   ]
  },
  {
   "cell_type": "code",
   "execution_count": 14,
   "id": "5b7c5565",
   "metadata": {},
   "outputs": [
    {
     "data": {
      "text/plain": [
       "{'file_type': 'csv',\n",
       " 'dataset_name': 'file',\n",
       " 'file_name': 'Parking_Violations_Issued_-_Fiscal_Year_2016',\n",
       " 'table_name': 'edsurv',\n",
       " 'inbound_delimiter': ',',\n",
       " 'outbound_delimiter': '|',\n",
       " 'skip_leading_rows': 1,\n",
       " 'columns': ['SummonsNumber - PlateID - RegistrationState - PlateType - IssueDate - ViolationCode - VehicleBodyType - VehicleMake - IssuingAgency - StreetCode1 - StreetCode2 - StreetCode3 - VehicleExpirationDate - ViolationLocation - ViolationPrecinct - ViolationInFrontOfOrOpposite - HouseNumber - StreetName - IntersectingStreet - DateFirstObserved - LawSection - SubDivision - ViolationLegalCode - DaysParkingInEffect - FromHoursInEffect - ToHoursInEffect - VehicleColor - UnregisteredVehicle - VehicleYear - MeterNumber - FeetFromCurb - ViolationPostCode - ViolationDescription - NoStandingorStoppingViolation - HydrantViolation - DoubleParkingViolation - Latitude - Longitude - CommunityBoard - CommunityCouncil - CensusTract - BIN - BBL - NTA']}"
      ]
     },
     "execution_count": 14,
     "metadata": {},
     "output_type": "execute_result"
    }
   ],
   "source": [
    "# data of config file\n",
    "config_data"
   ]
  },
  {
   "cell_type": "code",
   "execution_count": 15,
   "id": "0b3f235b",
   "metadata": {},
   "outputs": [],
   "source": [
    "# read file using config file\n",
    "file_type = config_data['file_type']\n",
    "source_file = \"./\" + config_data['file_name'] + f'.{file_type}'"
   ]
  },
  {
   "cell_type": "code",
   "execution_count": 16,
   "id": "347be3f4",
   "metadata": {},
   "outputs": [
    {
     "data": {
      "text/html": [
       "<div>\n",
       "<style scoped>\n",
       "    .dataframe tbody tr th:only-of-type {\n",
       "        vertical-align: middle;\n",
       "    }\n",
       "\n",
       "    .dataframe tbody tr th {\n",
       "        vertical-align: top;\n",
       "    }\n",
       "\n",
       "    .dataframe thead th {\n",
       "        text-align: right;\n",
       "    }\n",
       "</style>\n",
       "<table border=\"1\" class=\"dataframe\">\n",
       "  <thead>\n",
       "    <tr style=\"text-align: right;\">\n",
       "      <th></th>\n",
       "      <th>Summons Number</th>\n",
       "      <th>Plate ID</th>\n",
       "      <th>Registration State</th>\n",
       "      <th>Plate Type</th>\n",
       "      <th>Issue Date</th>\n",
       "      <th>Violation Code</th>\n",
       "      <th>Vehicle Body Type</th>\n",
       "      <th>Vehicle Make</th>\n",
       "      <th>Issuing Agency</th>\n",
       "      <th>Street Code1</th>\n",
       "      <th>...</th>\n",
       "      <th>Hydrant Violation</th>\n",
       "      <th>Double Parking Violation</th>\n",
       "      <th>Latitude</th>\n",
       "      <th>Longitude</th>\n",
       "      <th>Community Board</th>\n",
       "      <th>Community Council</th>\n",
       "      <th>Census Tract</th>\n",
       "      <th>BIN</th>\n",
       "      <th>BBL</th>\n",
       "      <th>NTA</th>\n",
       "    </tr>\n",
       "  </thead>\n",
       "  <tbody>\n",
       "    <tr>\n",
       "      <th>0</th>\n",
       "      <td>1363745270</td>\n",
       "      <td>GGY6450</td>\n",
       "      <td>99</td>\n",
       "      <td>PAS</td>\n",
       "      <td>07/09/2015</td>\n",
       "      <td>46</td>\n",
       "      <td>SDN</td>\n",
       "      <td>HONDA</td>\n",
       "      <td>P</td>\n",
       "      <td>0</td>\n",
       "      <td>...</td>\n",
       "      <td>NaN</td>\n",
       "      <td>NaN</td>\n",
       "      <td>NaN</td>\n",
       "      <td>NaN</td>\n",
       "      <td>NaN</td>\n",
       "      <td>NaN</td>\n",
       "      <td>NaN</td>\n",
       "      <td>NaN</td>\n",
       "      <td>NaN</td>\n",
       "      <td>NaN</td>\n",
       "    </tr>\n",
       "    <tr>\n",
       "      <th>1</th>\n",
       "      <td>1363745293</td>\n",
       "      <td>KXD355</td>\n",
       "      <td>SC</td>\n",
       "      <td>PAS</td>\n",
       "      <td>07/09/2015</td>\n",
       "      <td>21</td>\n",
       "      <td>SUBN</td>\n",
       "      <td>CHEVR</td>\n",
       "      <td>P</td>\n",
       "      <td>55730</td>\n",
       "      <td>...</td>\n",
       "      <td>NaN</td>\n",
       "      <td>NaN</td>\n",
       "      <td>NaN</td>\n",
       "      <td>NaN</td>\n",
       "      <td>NaN</td>\n",
       "      <td>NaN</td>\n",
       "      <td>NaN</td>\n",
       "      <td>NaN</td>\n",
       "      <td>NaN</td>\n",
       "      <td>NaN</td>\n",
       "    </tr>\n",
       "    <tr>\n",
       "      <th>2</th>\n",
       "      <td>1363745438</td>\n",
       "      <td>JCK7576</td>\n",
       "      <td>PA</td>\n",
       "      <td>PAS</td>\n",
       "      <td>07/09/2015</td>\n",
       "      <td>21</td>\n",
       "      <td>SDN</td>\n",
       "      <td>ME/BE</td>\n",
       "      <td>P</td>\n",
       "      <td>42730</td>\n",
       "      <td>...</td>\n",
       "      <td>NaN</td>\n",
       "      <td>NaN</td>\n",
       "      <td>NaN</td>\n",
       "      <td>NaN</td>\n",
       "      <td>NaN</td>\n",
       "      <td>NaN</td>\n",
       "      <td>NaN</td>\n",
       "      <td>NaN</td>\n",
       "      <td>NaN</td>\n",
       "      <td>NaN</td>\n",
       "    </tr>\n",
       "    <tr>\n",
       "      <th>3</th>\n",
       "      <td>1363745475</td>\n",
       "      <td>GYK7658</td>\n",
       "      <td>NY</td>\n",
       "      <td>OMS</td>\n",
       "      <td>07/09/2015</td>\n",
       "      <td>21</td>\n",
       "      <td>SUBN</td>\n",
       "      <td>NISSA</td>\n",
       "      <td>P</td>\n",
       "      <td>58130</td>\n",
       "      <td>...</td>\n",
       "      <td>NaN</td>\n",
       "      <td>NaN</td>\n",
       "      <td>NaN</td>\n",
       "      <td>NaN</td>\n",
       "      <td>NaN</td>\n",
       "      <td>NaN</td>\n",
       "      <td>NaN</td>\n",
       "      <td>NaN</td>\n",
       "      <td>NaN</td>\n",
       "      <td>NaN</td>\n",
       "    </tr>\n",
       "    <tr>\n",
       "      <th>4</th>\n",
       "      <td>1363745487</td>\n",
       "      <td>GMT8141</td>\n",
       "      <td>NY</td>\n",
       "      <td>PAS</td>\n",
       "      <td>07/09/2015</td>\n",
       "      <td>21</td>\n",
       "      <td>P-U</td>\n",
       "      <td>LINCO</td>\n",
       "      <td>P</td>\n",
       "      <td>58130</td>\n",
       "      <td>...</td>\n",
       "      <td>NaN</td>\n",
       "      <td>NaN</td>\n",
       "      <td>NaN</td>\n",
       "      <td>NaN</td>\n",
       "      <td>NaN</td>\n",
       "      <td>NaN</td>\n",
       "      <td>NaN</td>\n",
       "      <td>NaN</td>\n",
       "      <td>NaN</td>\n",
       "      <td>NaN</td>\n",
       "    </tr>\n",
       "  </tbody>\n",
       "</table>\n",
       "<p>5 rows × 51 columns</p>\n",
       "</div>"
      ],
      "text/plain": [
       "   Summons Number Plate ID Registration State Plate Type  Issue Date  \\\n",
       "0      1363745270  GGY6450                 99        PAS  07/09/2015   \n",
       "1      1363745293   KXD355                 SC        PAS  07/09/2015   \n",
       "2      1363745438  JCK7576                 PA        PAS  07/09/2015   \n",
       "3      1363745475  GYK7658                 NY        OMS  07/09/2015   \n",
       "4      1363745487  GMT8141                 NY        PAS  07/09/2015   \n",
       "\n",
       "   Violation Code Vehicle Body Type Vehicle Make Issuing Agency  Street Code1  \\\n",
       "0              46               SDN        HONDA              P             0   \n",
       "1              21              SUBN        CHEVR              P         55730   \n",
       "2              21               SDN        ME/BE              P         42730   \n",
       "3              21              SUBN        NISSA              P         58130   \n",
       "4              21               P-U        LINCO              P         58130   \n",
       "\n",
       "   ...  Hydrant Violation  Double Parking Violation  Latitude  Longitude  \\\n",
       "0  ...                NaN                       NaN       NaN        NaN   \n",
       "1  ...                NaN                       NaN       NaN        NaN   \n",
       "2  ...                NaN                       NaN       NaN        NaN   \n",
       "3  ...                NaN                       NaN       NaN        NaN   \n",
       "4  ...                NaN                       NaN       NaN        NaN   \n",
       "\n",
       "   Community Board  Community Council   Census Tract BIN BBL NTA  \n",
       "0              NaN                 NaN           NaN NaN NaN NaN  \n",
       "1              NaN                 NaN           NaN NaN NaN NaN  \n",
       "2              NaN                 NaN           NaN NaN NaN NaN  \n",
       "3              NaN                 NaN           NaN NaN NaN NaN  \n",
       "4              NaN                 NaN           NaN NaN NaN NaN  \n",
       "\n",
       "[5 rows x 51 columns]"
      ]
     },
     "execution_count": 16,
     "metadata": {},
     "output_type": "execute_result"
    }
   ],
   "source": [
    "df = pd.read_csv(source_file, config_data['inbound_delimiter'])\n",
    "df.head()"
   ]
  },
  {
   "cell_type": "code",
   "execution_count": 17,
   "id": "d8c8d4b9",
   "metadata": {},
   "outputs": [
    {
     "name": "stdout",
     "output_type": "stream",
     "text": [
      "column name and column length validation failed\n",
      "Following File columns are not in the YAML file ['violation_county', 'days_parking_in_effect', 'intersecting_street', 'violation_post_code', 'nta', 'census_tract', 'date_first_observed', 'feet_from_curb', 'to_hours_in_effect', 'meter_number', 'vehicle_expiration_date', 'bbl', 'violation_code', 'from_hours_in_effect', 'issuer_code', 'vehicle_make', 'time_first_observed', 'latitude', 'street_code2', 'vehicle_body_type', 'violation_time', 'vehicle_color', 'street_name', 'unregistered_vehicle', 'bin', 'plate_id', 'house_number', 'issuing_agency', 'registration_state', 'violation_description', 'violation_location', 'law_section', 'issuer_precinct', 'plate_type', 'sub_division', 'community_council', 'double_parking_violation', 'summons_number', 'issuer_command', 'violation_precinct', 'violation_in_front_of_or_opposite', 'violation_legal_code', 'longitude', 'hydrant_violation', 'issuer_squad', 'street_code1', 'community_board', 'issue_date', 'no_standing_or_stopping_violation', 'vehicle_year', 'street_code3']\n",
      "Following YAML columns are not in the file uploaded ['summonsnumber - plateid - registrationstate - platetype - issuedate - violationcode - vehiclebodytype - vehiclemake - issuingagency - streetcode1 - streetcode2 - streetcode3 - vehicleexpirationdate - violationlocation - violationprecinct - violationinfrontoforopposite - housenumber - streetname - intersectingstreet - datefirstobserved - lawsection - subdivision - violationlegalcode - daysparkingineffect - fromhoursineffect - tohoursineffect - vehiclecolor - unregisteredvehicle - vehicleyear - meternumber - feetfromcurb - violationpostcode - violationdescription - nostandingorstoppingviolation - hydrantviolation - doubleparkingviolation - latitude - longitude - communityboard - communitycouncil - censustract - bin - bbl - nta']\n"
     ]
    },
    {
     "data": {
      "text/plain": [
       "0"
      ]
     },
     "execution_count": 17,
     "metadata": {},
     "output_type": "execute_result"
    }
   ],
   "source": [
    "# validate header of the file\n",
    "util.col_header_val(df, config_data)"
   ]
  },
  {
   "cell_type": "code",
   "execution_count": 18,
   "id": "e223301f",
   "metadata": {},
   "outputs": [
    {
     "name": "stdout",
     "output_type": "stream",
     "text": [
      "columns of files are: Index(['summons_number', 'plate_id', 'registration_state', 'plate_type',\n",
      "       'issue_date', 'violation_code', 'vehicle_body_type', 'vehicle_make',\n",
      "       'issuing_agency', 'street_code1', 'street_code2', 'street_code3',\n",
      "       'vehicle_expiration_date', 'violation_location', 'violation_precinct',\n",
      "       'issuer_precinct', 'issuer_code', 'issuer_command', 'issuer_squad',\n",
      "       'violation_time', 'time_first_observed', 'violation_county',\n",
      "       'violation_in_front_of_or_opposite', 'house_number', 'street_name',\n",
      "       'intersecting_street', 'date_first_observed', 'law_section',\n",
      "       'sub_division', 'violation_legal_code', 'days_parking_in_effect',\n",
      "       'from_hours_in_effect', 'to_hours_in_effect', 'vehicle_color',\n",
      "       'unregistered_vehicle', 'vehicle_year', 'meter_number',\n",
      "       'feet_from_curb', 'violation_post_code', 'violation_description',\n",
      "       'no_standing_or_stopping_violation', 'hydrant_violation',\n",
      "       'double_parking_violation', 'latitude', 'longitude', 'community_board',\n",
      "       'community_council', 'census_tract', 'bin', 'bbl', 'nta'],\n",
      "      dtype='object')\n",
      "columns of YAML are: ['SummonsNumber - PlateID - RegistrationState - PlateType - IssueDate - ViolationCode - VehicleBodyType - VehicleMake - IssuingAgency - StreetCode1 - StreetCode2 - StreetCode3 - VehicleExpirationDate - ViolationLocation - ViolationPrecinct - ViolationInFrontOfOrOpposite - HouseNumber - StreetName - IntersectingStreet - DateFirstObserved - LawSection - SubDivision - ViolationLegalCode - DaysParkingInEffect - FromHoursInEffect - ToHoursInEffect - VehicleColor - UnregisteredVehicle - VehicleYear - MeterNumber - FeetFromCurb - ViolationPostCode - ViolationDescription - NoStandingorStoppingViolation - HydrantViolation - DoubleParkingViolation - Latitude - Longitude - CommunityBoard - CommunityCouncil - CensusTract - BIN - BBL - NTA']\n"
     ]
    }
   ],
   "source": [
    "print(\"columns of files are:\", df.columns)\n",
    "print(\"columns of YAML are:\", config_data['columns'])"
   ]
  },
  {
   "cell_type": "code",
   "execution_count": 19,
   "id": "59c0d442",
   "metadata": {},
   "outputs": [
    {
     "name": "stdout",
     "output_type": "stream",
     "text": [
      "column name and column length validation failed\n",
      "Following File columns are not in the YAML file ['violation_county', 'days_parking_in_effect', 'intersecting_street', 'violation_post_code', 'nta', 'census_tract', 'date_first_observed', 'feet_from_curb', 'to_hours_in_effect', 'meter_number', 'vehicle_expiration_date', 'bbl', 'violation_code', 'from_hours_in_effect', 'issuer_code', 'vehicle_make', 'time_first_observed', 'latitude', 'street_code2', 'vehicle_body_type', 'violation_time', 'vehicle_color', 'street_name', 'unregistered_vehicle', 'bin', 'plate_id', 'house_number', 'issuing_agency', 'registration_state', 'violation_description', 'violation_location', 'law_section', 'issuer_precinct', 'plate_type', 'sub_division', 'community_council', 'double_parking_violation', 'summons_number', 'issuer_command', 'violation_precinct', 'violation_in_front_of_or_opposite', 'violation_legal_code', 'longitude', 'hydrant_violation', 'issuer_squad', 'street_code1', 'community_board', 'issue_date', 'no_standing_or_stopping_violation', 'vehicle_year', 'street_code3']\n",
      "Following YAML columns are not in the file uploaded ['summonsnumber - plateid - registrationstate - platetype - issuedate - violationcode - vehiclebodytype - vehiclemake - issuingagency - streetcode1 - streetcode2 - streetcode3 - vehicleexpirationdate - violationlocation - violationprecinct - violationinfrontoforopposite - housenumber - streetname - intersectingstreet - datefirstobserved - lawsection - subdivision - violationlegalcode - daysparkingineffect - fromhoursineffect - tohoursineffect - vehiclecolor - unregisteredvehicle - vehicleyear - meternumber - feetfromcurb - violationpostcode - violationdescription - nostandingorstoppingviolation - hydrantviolation - doubleparkingviolation - latitude - longitude - communityboard - communitycouncil - censustract - bin - bbl - nta']\n",
      "validation failed\n"
     ]
    }
   ],
   "source": [
    "if util.col_header_val(df, config_data)==0:\n",
    "    print(\"validation failed\")\n",
    "else:\n",
    "    print(\"col validation passed\")"
   ]
  },
  {
   "cell_type": "code",
   "execution_count": 20,
   "id": "230c5725",
   "metadata": {
    "scrolled": false
   },
   "outputs": [
    {
     "data": {
      "text/plain": [
       "['/Users/untitled/Desktop/Week 6/Parking_Violations_Issued_-_Fiscal_Year_2016.csv.gz/00.part',\n",
       " '/Users/untitled/Desktop/Week 6/Parking_Violations_Issued_-_Fiscal_Year_2016.csv.gz/01.part',\n",
       " '/Users/untitled/Desktop/Week 6/Parking_Violations_Issued_-_Fiscal_Year_2016.csv.gz/02.part',\n",
       " '/Users/untitled/Desktop/Week 6/Parking_Violations_Issued_-_Fiscal_Year_2016.csv.gz/03.part',\n",
       " '/Users/untitled/Desktop/Week 6/Parking_Violations_Issued_-_Fiscal_Year_2016.csv.gz/04.part',\n",
       " '/Users/untitled/Desktop/Week 6/Parking_Violations_Issued_-_Fiscal_Year_2016.csv.gz/05.part',\n",
       " '/Users/untitled/Desktop/Week 6/Parking_Violations_Issued_-_Fiscal_Year_2016.csv.gz/06.part',\n",
       " '/Users/untitled/Desktop/Week 6/Parking_Violations_Issued_-_Fiscal_Year_2016.csv.gz/07.part',\n",
       " '/Users/untitled/Desktop/Week 6/Parking_Violations_Issued_-_Fiscal_Year_2016.csv.gz/08.part',\n",
       " '/Users/untitled/Desktop/Week 6/Parking_Violations_Issued_-_Fiscal_Year_2016.csv.gz/09.part',\n",
       " '/Users/untitled/Desktop/Week 6/Parking_Violations_Issued_-_Fiscal_Year_2016.csv.gz/10.part',\n",
       " '/Users/untitled/Desktop/Week 6/Parking_Violations_Issued_-_Fiscal_Year_2016.csv.gz/11.part',\n",
       " '/Users/untitled/Desktop/Week 6/Parking_Violations_Issued_-_Fiscal_Year_2016.csv.gz/12.part',\n",
       " '/Users/untitled/Desktop/Week 6/Parking_Violations_Issued_-_Fiscal_Year_2016.csv.gz/13.part',\n",
       " '/Users/untitled/Desktop/Week 6/Parking_Violations_Issued_-_Fiscal_Year_2016.csv.gz/14.part',\n",
       " '/Users/untitled/Desktop/Week 6/Parking_Violations_Issued_-_Fiscal_Year_2016.csv.gz/15.part',\n",
       " '/Users/untitled/Desktop/Week 6/Parking_Violations_Issued_-_Fiscal_Year_2016.csv.gz/16.part',\n",
       " '/Users/untitled/Desktop/Week 6/Parking_Violations_Issued_-_Fiscal_Year_2016.csv.gz/17.part',\n",
       " '/Users/untitled/Desktop/Week 6/Parking_Violations_Issued_-_Fiscal_Year_2016.csv.gz/18.part',\n",
       " '/Users/untitled/Desktop/Week 6/Parking_Violations_Issued_-_Fiscal_Year_2016.csv.gz/19.part',\n",
       " '/Users/untitled/Desktop/Week 6/Parking_Violations_Issued_-_Fiscal_Year_2016.csv.gz/20.part',\n",
       " '/Users/untitled/Desktop/Week 6/Parking_Violations_Issued_-_Fiscal_Year_2016.csv.gz/21.part',\n",
       " '/Users/untitled/Desktop/Week 6/Parking_Violations_Issued_-_Fiscal_Year_2016.csv.gz/22.part',\n",
       " '/Users/untitled/Desktop/Week 6/Parking_Violations_Issued_-_Fiscal_Year_2016.csv.gz/23.part',\n",
       " '/Users/untitled/Desktop/Week 6/Parking_Violations_Issued_-_Fiscal_Year_2016.csv.gz/24.part',\n",
       " '/Users/untitled/Desktop/Week 6/Parking_Violations_Issued_-_Fiscal_Year_2016.csv.gz/25.part',\n",
       " '/Users/untitled/Desktop/Week 6/Parking_Violations_Issued_-_Fiscal_Year_2016.csv.gz/26.part',\n",
       " '/Users/untitled/Desktop/Week 6/Parking_Violations_Issued_-_Fiscal_Year_2016.csv.gz/27.part',\n",
       " '/Users/untitled/Desktop/Week 6/Parking_Violations_Issued_-_Fiscal_Year_2016.csv.gz/28.part',\n",
       " '/Users/untitled/Desktop/Week 6/Parking_Violations_Issued_-_Fiscal_Year_2016.csv.gz/29.part',\n",
       " '/Users/untitled/Desktop/Week 6/Parking_Violations_Issued_-_Fiscal_Year_2016.csv.gz/30.part',\n",
       " '/Users/untitled/Desktop/Week 6/Parking_Violations_Issued_-_Fiscal_Year_2016.csv.gz/31.part',\n",
       " '/Users/untitled/Desktop/Week 6/Parking_Violations_Issued_-_Fiscal_Year_2016.csv.gz/32.part']"
      ]
     },
     "execution_count": 20,
     "metadata": {},
     "output_type": "execute_result"
    }
   ],
   "source": [
    "import csv\n",
    "import gzip\n",
    "\n",
    "df = dd.read_csv(\n",
    "    \"Parking_Violations_Issued_-_Fiscal_Year_2016.csv\",\n",
    "    dtype={'House Number': 'object',\n",
    "       'Issuer Command': 'object',\n",
    "       'Issuer Squad': 'object',\n",
    "       'Time First Observed': 'object',\n",
    "       'Unregistered Vehicle?': 'object',\n",
    "       'Violation Description': 'object',\n",
    "       'Violation Legal Code': 'object',\n",
    "       'Violation Location': 'object',\n",
    "       'Violation Post Code': 'object',\n",
    "       'Intersecting Street': 'object',\n",
    "       'Date First Observed': 'object',\n",
    "       'Feet From Curb': 'object',\n",
    "       'Issuer Code': 'object',\n",
    "       'Issuer Precinct': 'object',\n",
    "       'Law Section': 'object',\n",
    "       'Vehicle Expiration Date': 'object',\n",
    "       'Vehicle Year': 'object',\n",
    "       'Violation Precinct': 'object'})\n",
    "\n",
    "# write csv in gz format in pipe separated text file (|)\n",
    "df.to_csv(\"Parking_Violations_Issued_-_Fiscal_Year_2016.csv.gz\",\n",
    "          sep='|',\n",
    "          header=True,\n",
    "          index=False,\n",
    "          quoting=csv.QUOTE_ALL,\n",
    "          compression='gzip',\n",
    "          quotechar='\"',\n",
    "          doublequote=True,\n",
    "          line_terminator='\\n')"
   ]
  },
  {
   "cell_type": "code",
   "execution_count": 21,
   "id": "eca2140d",
   "metadata": {},
   "outputs": [
    {
     "data": {
      "text/plain": [
       "1120"
      ]
     },
     "execution_count": 21,
     "metadata": {},
     "output_type": "execute_result"
    }
   ],
   "source": [
    "# size of the gz format folder\n",
    "os.path.getsize(\"Parking_Violations_Issued_-_Fiscal_Year_2016.csv.gz\")"
   ]
  }
 ],
 "metadata": {
  "kernelspec": {
   "display_name": "Python 3 (ipykernel)",
   "language": "python",
   "name": "python3"
  },
  "language_info": {
   "codemirror_mode": {
    "name": "ipython",
    "version": 3
   },
   "file_extension": ".py",
   "mimetype": "text/x-python",
   "name": "python",
   "nbconvert_exporter": "python",
   "pygments_lexer": "ipython3",
   "version": "3.9.7"
  }
 },
 "nbformat": 4,
 "nbformat_minor": 5
}
